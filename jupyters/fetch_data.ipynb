{
 "cells": [
  {
   "metadata": {},
   "cell_type": "markdown",
   "source": "## Fetch Data from Repository",
   "id": "3e726b6081543826"
  },
  {
   "metadata": {
    "ExecuteTime": {
     "end_time": "2025-07-04T22:35:06.226072Z",
     "start_time": "2025-07-04T22:35:05.806409Z"
    }
   },
   "cell_type": "code",
   "source": [
    "import pandas as pd\n",
    "import numpy as np"
   ],
   "id": "c5c9781585485c",
   "outputs": [],
   "execution_count": 1
  },
  {
   "cell_type": "code",
   "id": "initial_id",
   "metadata": {
    "collapsed": true,
    "ExecuteTime": {
     "end_time": "2025-07-04T22:35:07.072279Z",
     "start_time": "2025-07-04T22:35:06.461085Z"
    }
   },
   "source": [
    "from utils.repository.repository import Repository\n",
    "repo = Repository()"
   ],
   "outputs": [
    {
     "name": "stdout",
     "output_type": "stream",
     "text": [
      "Repository initialized with Supabase client.\n"
     ]
    }
   ],
   "execution_count": 2
  },
  {
   "metadata": {
    "ExecuteTime": {
     "end_time": "2025-07-04T22:35:15.133476Z",
     "start_time": "2025-07-04T22:35:07.101466Z"
    }
   },
   "cell_type": "code",
   "source": [
    "# Fetch data from the repository\n",
    "questions = repo.fetch_questions()"
   ],
   "id": "e26a2908b17ce681",
   "outputs": [
    {
     "name": "stdout",
     "output_type": "stream",
     "text": [
      "Fetched 6119 questions from the database.\n"
     ]
    }
   ],
   "execution_count": 3
  },
  {
   "metadata": {
    "ExecuteTime": {
     "end_time": "2025-07-04T22:37:05.888755Z",
     "start_time": "2025-07-04T22:37:05.852579Z"
    }
   },
   "cell_type": "code",
   "source": [
    "# Convert the questions to a DataFrame\n",
    "questions_df = pd.DataFrame([q.to_json() for q in questions])\n"
   ],
   "id": "a283ab737d0ad12d",
   "outputs": [],
   "execution_count": 9
  },
  {
   "metadata": {
    "ExecuteTime": {
     "end_time": "2025-07-04T22:37:07.672715Z",
     "start_time": "2025-07-04T22:37:07.651099Z"
    }
   },
   "cell_type": "code",
   "source": "questions_df.head()",
   "id": "23470922ec4cde6",
   "outputs": [
    {
     "data": {
      "text/plain": [
       "              id                                           question  \\\n",
       "0   202210310321  Pepe está sentado en un banco aburrido cuando ...   \n",
       "1   202302210347        ¿Cuál de las siguientes es una preposición?   \n",
       "2  2022121612549                                                      \n",
       "3   202301100324  ¿Quiénes son considerados sujetos responsables...   \n",
       "4   202303270311  Los rasgos cardinales de la personalidad se ca...   \n",
       "\n",
       "                                      correct_answer  solution  \\\n",
       "0  Pepe comete un delito de hurto de uso de vehíc...         2   \n",
       "1                Ambas respuestas son preposiciones.         3   \n",
       "2                                               None         0   \n",
       "3   Autores del hecho en que consista la infracción.         3   \n",
       "4  Por ser muy generales. Dominan y moldean el co...         1   \n",
       "\n",
       "                                                 tip  category  publised  \\\n",
       "0  Pepe comete un hurto de uso de vehículo ya que...       1.0      True   \n",
       "1  En 2009 fueron añadidas por la Real Academia E...       2.0      True   \n",
       "2                                               None       NaN     False   \n",
       "3  Artículo 30. Sujetos responsables. (LO 4/2015)...       1.0      True   \n",
       "4  Según Allport y su teoría de los rasgos de la ...       2.0      True   \n",
       "\n",
       "   num_answered  num_fails  num_empty  difficult_rate  challenge_by_tutor  \\\n",
       "0           875         77         56        0.152010               False   \n",
       "1           549         69         48        0.213125               False   \n",
       "2             1          0          1        0.999990               False   \n",
       "3           778        282         44        0.419033               False   \n",
       "4           424         83        193        0.650953               False   \n",
       "\n",
       "   difficult_unique_rate  \n",
       "0                      0  \n",
       "1                      0  \n",
       "2                      0  \n",
       "3                      0  \n",
       "4                      0  "
      ],
      "text/html": [
       "<div>\n",
       "<style scoped>\n",
       "    .dataframe tbody tr th:only-of-type {\n",
       "        vertical-align: middle;\n",
       "    }\n",
       "\n",
       "    .dataframe tbody tr th {\n",
       "        vertical-align: top;\n",
       "    }\n",
       "\n",
       "    .dataframe thead th {\n",
       "        text-align: right;\n",
       "    }\n",
       "</style>\n",
       "<table border=\"1\" class=\"dataframe\">\n",
       "  <thead>\n",
       "    <tr style=\"text-align: right;\">\n",
       "      <th></th>\n",
       "      <th>id</th>\n",
       "      <th>question</th>\n",
       "      <th>correct_answer</th>\n",
       "      <th>solution</th>\n",
       "      <th>tip</th>\n",
       "      <th>category</th>\n",
       "      <th>publised</th>\n",
       "      <th>num_answered</th>\n",
       "      <th>num_fails</th>\n",
       "      <th>num_empty</th>\n",
       "      <th>difficult_rate</th>\n",
       "      <th>challenge_by_tutor</th>\n",
       "      <th>difficult_unique_rate</th>\n",
       "    </tr>\n",
       "  </thead>\n",
       "  <tbody>\n",
       "    <tr>\n",
       "      <th>0</th>\n",
       "      <td>202210310321</td>\n",
       "      <td>Pepe está sentado en un banco aburrido cuando ...</td>\n",
       "      <td>Pepe comete un delito de hurto de uso de vehíc...</td>\n",
       "      <td>2</td>\n",
       "      <td>Pepe comete un hurto de uso de vehículo ya que...</td>\n",
       "      <td>1.0</td>\n",
       "      <td>True</td>\n",
       "      <td>875</td>\n",
       "      <td>77</td>\n",
       "      <td>56</td>\n",
       "      <td>0.152010</td>\n",
       "      <td>False</td>\n",
       "      <td>0</td>\n",
       "    </tr>\n",
       "    <tr>\n",
       "      <th>1</th>\n",
       "      <td>202302210347</td>\n",
       "      <td>¿Cuál de las siguientes es una preposición?</td>\n",
       "      <td>Ambas respuestas son preposiciones.</td>\n",
       "      <td>3</td>\n",
       "      <td>En 2009 fueron añadidas por la Real Academia E...</td>\n",
       "      <td>2.0</td>\n",
       "      <td>True</td>\n",
       "      <td>549</td>\n",
       "      <td>69</td>\n",
       "      <td>48</td>\n",
       "      <td>0.213125</td>\n",
       "      <td>False</td>\n",
       "      <td>0</td>\n",
       "    </tr>\n",
       "    <tr>\n",
       "      <th>2</th>\n",
       "      <td>2022121612549</td>\n",
       "      <td></td>\n",
       "      <td>None</td>\n",
       "      <td>0</td>\n",
       "      <td>None</td>\n",
       "      <td>NaN</td>\n",
       "      <td>False</td>\n",
       "      <td>1</td>\n",
       "      <td>0</td>\n",
       "      <td>1</td>\n",
       "      <td>0.999990</td>\n",
       "      <td>False</td>\n",
       "      <td>0</td>\n",
       "    </tr>\n",
       "    <tr>\n",
       "      <th>3</th>\n",
       "      <td>202301100324</td>\n",
       "      <td>¿Quiénes son considerados sujetos responsables...</td>\n",
       "      <td>Autores del hecho en que consista la infracción.</td>\n",
       "      <td>3</td>\n",
       "      <td>Artículo 30. Sujetos responsables. (LO 4/2015)...</td>\n",
       "      <td>1.0</td>\n",
       "      <td>True</td>\n",
       "      <td>778</td>\n",
       "      <td>282</td>\n",
       "      <td>44</td>\n",
       "      <td>0.419033</td>\n",
       "      <td>False</td>\n",
       "      <td>0</td>\n",
       "    </tr>\n",
       "    <tr>\n",
       "      <th>4</th>\n",
       "      <td>202303270311</td>\n",
       "      <td>Los rasgos cardinales de la personalidad se ca...</td>\n",
       "      <td>Por ser muy generales. Dominan y moldean el co...</td>\n",
       "      <td>1</td>\n",
       "      <td>Según Allport y su teoría de los rasgos de la ...</td>\n",
       "      <td>2.0</td>\n",
       "      <td>True</td>\n",
       "      <td>424</td>\n",
       "      <td>83</td>\n",
       "      <td>193</td>\n",
       "      <td>0.650953</td>\n",
       "      <td>False</td>\n",
       "      <td>0</td>\n",
       "    </tr>\n",
       "  </tbody>\n",
       "</table>\n",
       "</div>"
      ]
     },
     "execution_count": 10,
     "metadata": {},
     "output_type": "execute_result"
    }
   ],
   "execution_count": 10
  },
  {
   "metadata": {
    "ExecuteTime": {
     "end_time": "2025-07-04T22:40:13.320707Z",
     "start_time": "2025-07-04T22:40:13.308816Z"
    }
   },
   "cell_type": "code",
   "source": [
    "df = questions_df[questions_df['question'] != ''].reset_index(drop=True)\n",
    "df.head()"
   ],
   "id": "93651f2a3d9ab596",
   "outputs": [
    {
     "data": {
      "text/plain": [
       "             id                                           question  \\\n",
       "0  202210310321  Pepe está sentado en un banco aburrido cuando ...   \n",
       "1  202302210347        ¿Cuál de las siguientes es una preposición?   \n",
       "2  202301100324  ¿Quiénes son considerados sujetos responsables...   \n",
       "3  202303270311  Los rasgos cardinales de la personalidad se ca...   \n",
       "4  202320010315  ¿Cuál de las siguientes teorías podemos relaci...   \n",
       "\n",
       "                                      correct_answer  solution  \\\n",
       "0  Pepe comete un delito de hurto de uso de vehíc...         2   \n",
       "1                Ambas respuestas son preposiciones.         3   \n",
       "2   Autores del hecho en que consista la infracción.         3   \n",
       "3  Por ser muy generales. Dominan y moldean el co...         1   \n",
       "4                         Condicionamiento operante.         1   \n",
       "\n",
       "                                                 tip  category  publised  \\\n",
       "0  Pepe comete un hurto de uso de vehículo ya que...       1.0      True   \n",
       "1  En 2009 fueron añadidas por la Real Academia E...       2.0      True   \n",
       "2  Artículo 30. Sujetos responsables. (LO 4/2015)...       1.0      True   \n",
       "3  Según Allport y su teoría de los rasgos de la ...       2.0      True   \n",
       "4  Relacionado con el paradigma asociacionista te...       2.0      True   \n",
       "\n",
       "   num_answered  num_fails  num_empty  difficult_rate  challenge_by_tutor  \\\n",
       "0           875         77         56        0.152010               False   \n",
       "1           549         69         48        0.213125               False   \n",
       "2           778        282         44        0.419033               False   \n",
       "3           424         83        193        0.650953               False   \n",
       "4           423        102        168        0.638308               False   \n",
       "\n",
       "   difficult_unique_rate  \n",
       "0                      0  \n",
       "1                      0  \n",
       "2                      0  \n",
       "3                      0  \n",
       "4                      0  "
      ],
      "text/html": [
       "<div>\n",
       "<style scoped>\n",
       "    .dataframe tbody tr th:only-of-type {\n",
       "        vertical-align: middle;\n",
       "    }\n",
       "\n",
       "    .dataframe tbody tr th {\n",
       "        vertical-align: top;\n",
       "    }\n",
       "\n",
       "    .dataframe thead th {\n",
       "        text-align: right;\n",
       "    }\n",
       "</style>\n",
       "<table border=\"1\" class=\"dataframe\">\n",
       "  <thead>\n",
       "    <tr style=\"text-align: right;\">\n",
       "      <th></th>\n",
       "      <th>id</th>\n",
       "      <th>question</th>\n",
       "      <th>correct_answer</th>\n",
       "      <th>solution</th>\n",
       "      <th>tip</th>\n",
       "      <th>category</th>\n",
       "      <th>publised</th>\n",
       "      <th>num_answered</th>\n",
       "      <th>num_fails</th>\n",
       "      <th>num_empty</th>\n",
       "      <th>difficult_rate</th>\n",
       "      <th>challenge_by_tutor</th>\n",
       "      <th>difficult_unique_rate</th>\n",
       "    </tr>\n",
       "  </thead>\n",
       "  <tbody>\n",
       "    <tr>\n",
       "      <th>0</th>\n",
       "      <td>202210310321</td>\n",
       "      <td>Pepe está sentado en un banco aburrido cuando ...</td>\n",
       "      <td>Pepe comete un delito de hurto de uso de vehíc...</td>\n",
       "      <td>2</td>\n",
       "      <td>Pepe comete un hurto de uso de vehículo ya que...</td>\n",
       "      <td>1.0</td>\n",
       "      <td>True</td>\n",
       "      <td>875</td>\n",
       "      <td>77</td>\n",
       "      <td>56</td>\n",
       "      <td>0.152010</td>\n",
       "      <td>False</td>\n",
       "      <td>0</td>\n",
       "    </tr>\n",
       "    <tr>\n",
       "      <th>1</th>\n",
       "      <td>202302210347</td>\n",
       "      <td>¿Cuál de las siguientes es una preposición?</td>\n",
       "      <td>Ambas respuestas son preposiciones.</td>\n",
       "      <td>3</td>\n",
       "      <td>En 2009 fueron añadidas por la Real Academia E...</td>\n",
       "      <td>2.0</td>\n",
       "      <td>True</td>\n",
       "      <td>549</td>\n",
       "      <td>69</td>\n",
       "      <td>48</td>\n",
       "      <td>0.213125</td>\n",
       "      <td>False</td>\n",
       "      <td>0</td>\n",
       "    </tr>\n",
       "    <tr>\n",
       "      <th>2</th>\n",
       "      <td>202301100324</td>\n",
       "      <td>¿Quiénes son considerados sujetos responsables...</td>\n",
       "      <td>Autores del hecho en que consista la infracción.</td>\n",
       "      <td>3</td>\n",
       "      <td>Artículo 30. Sujetos responsables. (LO 4/2015)...</td>\n",
       "      <td>1.0</td>\n",
       "      <td>True</td>\n",
       "      <td>778</td>\n",
       "      <td>282</td>\n",
       "      <td>44</td>\n",
       "      <td>0.419033</td>\n",
       "      <td>False</td>\n",
       "      <td>0</td>\n",
       "    </tr>\n",
       "    <tr>\n",
       "      <th>3</th>\n",
       "      <td>202303270311</td>\n",
       "      <td>Los rasgos cardinales de la personalidad se ca...</td>\n",
       "      <td>Por ser muy generales. Dominan y moldean el co...</td>\n",
       "      <td>1</td>\n",
       "      <td>Según Allport y su teoría de los rasgos de la ...</td>\n",
       "      <td>2.0</td>\n",
       "      <td>True</td>\n",
       "      <td>424</td>\n",
       "      <td>83</td>\n",
       "      <td>193</td>\n",
       "      <td>0.650953</td>\n",
       "      <td>False</td>\n",
       "      <td>0</td>\n",
       "    </tr>\n",
       "    <tr>\n",
       "      <th>4</th>\n",
       "      <td>202320010315</td>\n",
       "      <td>¿Cuál de las siguientes teorías podemos relaci...</td>\n",
       "      <td>Condicionamiento operante.</td>\n",
       "      <td>1</td>\n",
       "      <td>Relacionado con el paradigma asociacionista te...</td>\n",
       "      <td>2.0</td>\n",
       "      <td>True</td>\n",
       "      <td>423</td>\n",
       "      <td>102</td>\n",
       "      <td>168</td>\n",
       "      <td>0.638308</td>\n",
       "      <td>False</td>\n",
       "      <td>0</td>\n",
       "    </tr>\n",
       "  </tbody>\n",
       "</table>\n",
       "</div>"
      ]
     },
     "execution_count": 12,
     "metadata": {},
     "output_type": "execute_result"
    }
   ],
   "execution_count": 12
  }
 ],
 "metadata": {
  "kernelspec": {
   "display_name": "Python 3",
   "language": "python",
   "name": "python3"
  },
  "language_info": {
   "codemirror_mode": {
    "name": "ipython",
    "version": 2
   },
   "file_extension": ".py",
   "mimetype": "text/x-python",
   "name": "python",
   "nbconvert_exporter": "python",
   "pygments_lexer": "ipython2",
   "version": "2.7.6"
  }
 },
 "nbformat": 4,
 "nbformat_minor": 5
}
