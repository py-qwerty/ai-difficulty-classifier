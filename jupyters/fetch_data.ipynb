{
 "cells": [
  {
   "metadata": {},
   "cell_type": "markdown",
   "source": "## Fetch Data from Repository",
   "id": "3e726b6081543826"
  },
  {
   "metadata": {},
   "cell_type": "code",
   "source": [
    "import pandas as pd\n",
    "import numpy as np"
   ],
   "id": "c5c9781585485c",
   "outputs": [],
   "execution_count": null
  },
  {
   "cell_type": "code",
   "id": "initial_id",
   "metadata": {
    "collapsed": true
   },
   "source": [
    "from utils.repository.repository import Repository\n",
    "repo = Repository()"
   ],
   "outputs": [],
   "execution_count": null
  },
  {
   "metadata": {},
   "cell_type": "code",
   "source": [
    "# Fetch data from the repository\n",
    "questions = repo.fetch_questions(limit=-1, min_number=45, max_number=10000)"
   ],
   "id": "e26a2908b17ce681",
   "outputs": [],
   "execution_count": null
  },
  {
   "metadata": {},
   "cell_type": "code",
   "source": [
    "from utils.repository import open_ai\n",
    "from utils.functions.preprocessing_functions import create_embedding\n",
    "# Convert the questions to a DataFrame\n",
    "from utils.functions import *\n",
    "new_questions = create_embedding(questions, model= open_ai.EmbeddingModel.TEXT_EMBEDDING_3_LARGE)"
   ],
   "id": "a283ab737d0ad12d",
   "outputs": [],
   "execution_count": null
  },
  {
   "metadata": {},
   "cell_type": "code",
   "source": "repo.update_questions_embeddings(new_questions)",
   "id": "b01b6d4a1a83d6d2",
   "outputs": [],
   "execution_count": null
  }
 ],
 "metadata": {
  "kernelspec": {
   "display_name": "Python 3 (ipykernel)",
   "language": "python",
   "name": "python3"
  },
  "language_info": {
   "codemirror_mode": {
    "name": "ipython",
    "version": 2
   },
   "file_extension": ".py",
   "mimetype": "text/x-python",
   "name": "python",
   "nbconvert_exporter": "python",
   "pygments_lexer": "ipython2",
   "version": "2.7.6"
  }
 },
 "nbformat": 4,
 "nbformat_minor": 5
}
